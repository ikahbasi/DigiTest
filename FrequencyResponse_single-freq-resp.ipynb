{
 "cells": [
  {
   "cell_type": "markdown",
   "metadata": {},
   "source": [
    "# Import functions"
   ]
  },
  {
   "cell_type": "code",
   "execution_count": 2,
   "metadata": {},
   "outputs": [],
   "source": [
    "from obspy import read\n",
    "from digitest import CheckDigitizer"
   ]
  },
  {
   "cell_type": "markdown",
   "metadata": {},
   "source": [
    "# Make instance of CheckDigitizer"
   ]
  },
  {
   "cell_type": "code",
   "execution_count": 4,
   "metadata": {},
   "outputs": [],
   "source": [
    "check = CheckDigitizer()\n",
    "check.input_parser('./Inputs/input-freqresp-singlefreq_1.txt')"
   ]
  },
  {
   "cell_type": "markdown",
   "metadata": {},
   "source": [
    "# Read proper data"
   ]
  },
  {
   "cell_type": "code",
   "execution_count": 5,
   "metadata": {},
   "outputs": [],
   "source": [
    "path_single_freq = './Data/GT.UN.00.HNZ.D.2021.144'\n",
    "st = read(path_single_freq)"
   ]
  },
  {
   "cell_type": "markdown",
   "metadata": {},
   "source": [
    "# Calling frequency response function according to single frequency inputs"
   ]
  },
  {
   "cell_type": "code",
   "execution_count": 6,
   "metadata": {},
   "outputs": [
    {
     "name": "stdout",
     "output_type": "stream",
     "text": [
      "Source            Last Sample                 Next Sample                 Delta           Samples \n",
      "Total: 0 gap(s) and 0 overlap(s)\n",
      "GT    UN    HNZ    2021-05-24T12:45:50    1.0    100.0    100.0    5.0    792878.7    \n",
      "GT    UN    HNZ    2021-05-24T12:48:10    1.0    90.0    100.0    5.0    792878.7    \n",
      "GT    UN    HNZ    2021-05-24T12:50:00    1.0    80.0    100.0    5.0    792878.7    \n",
      "GT    UN    HNZ    2021-05-24T12:52:00    1.0    70.0    100.0    5.0    792878.7    \n",
      "GT    UN    HNZ    2021-05-24T12:54:00    2.0    60.0    100.0    5.0    792878.7    \n",
      "GT    UN    HNZ    2021-05-24T12:56:40    2.0    55.0    100.0    5.0    792878.7    \n",
      "GT    UN    HNZ    2021-05-24T13:00:50    2.0    54.0    100.0    5.0    792878.7    \n",
      "GT    UN    HNZ    2021-05-24T13:04:00    2.0    53.0    100.0    5.0    792878.7    \n",
      "GT    UN    HNZ    2021-05-24T13:07:00    2.0    52.0    100.0    5.0    792878.7    \n",
      "GT    UN    HNZ    2021-05-24T13:10:00    2.0    51.0    100.0    5.0    792878.7    \n",
      "GT    UN    HNZ    2021-05-24T13:13:00    2.0    50.0    100.0    5.0    792878.7    \n",
      "GT    UN    HNZ    2021-05-24T13:16:00    2.0    49.0    100.0    5.0    792878.7    \n",
      "GT    UN    HNZ    2021-05-24T13:19:00    2.0    48.0    100.0    5.0    792878.7    \n",
      "GT    UN    HNZ    2021-05-24T13:23:00    2.0    47.0    100.0    5.0    792878.7    \n",
      "GT    UN    HNZ    2021-05-24T13:26:00    2.0    46.0    100.0    5.0    792878.7    \n",
      "GT    UN    HNZ    2021-05-24T13:29:00    2.0    45.0    100.0    5.0    792878.7    \n",
      "GT    UN    HNZ    2021-05-24T13:33:00    2.0    40.0    100.0    5.0    792878.7    \n",
      "GT    UN    HNZ    2021-05-24T13:36:00    2.0    30.0    100.0    5.0    792878.7    \n",
      "GT    UN    HNZ    2021-05-24T13:39:20    2.0    20.0    100.0    5.0    792878.7    \n",
      "GT    UN    HNZ    2021-05-24T13:43:00    2.0    10.0    100.0    5.0    792878.7    \n",
      "GT    UN    HNZ    2021-05-24T13:50:00    2.0    5.0    100.0    5.0    792878.7    \n",
      "GT    UN    HNZ    2021-05-24T13:59:30    4.0    2.0    100.0    5.0    792878.7    \n",
      "GT    UN    HNZ    2021-05-24T14:06:00    8.0    1.0    100.0    5.0    792878.7    \n",
      "GT    UN    HNZ    2021-05-24T14:17:00    16.0    0.1    100.0    5.0    792878.7    \n",
      "GT    UN    HNZ    2021-05-24T14:34:00    80.0    0.01    100.0    5.0    792878.7    \n"
     ]
    }
   ],
   "source": [
    "check.freqresp_singlefreq(stream=st)"
   ]
  },
  {
   "cell_type": "code",
   "execution_count": 7,
   "metadata": {},
   "outputs": [
    {
     "data": {
      "image/png": "[encoded data removed]",
      "text/plain": [
       "<Figure size 756x540 with 1 Axes>"
      ]
     },
     "metadata": {
      "needs_background": "light"
     },
     "output_type": "display_data"
    }
   ],
   "source": [
    "check.plot_compare_freqresp()"
   ]
  },
  {
   "cell_type": "code",
   "execution_count": 8,
   "metadata": {},
   "outputs": [
    {
     "name": "stdout",
     "output_type": "stream",
     "text": [
      "Saved figure to ./results/reqresp-amplitude.png\n"
     ]
    }
   ],
   "source": [
    "check.plot_compare_freqresp(save=True, show=False, savefile='./results/reqresp-amplitude.png')"
   ]
  },
  {
   "cell_type": "code",
   "execution_count": 9,
   "metadata": {},
   "outputs": [
    {
     "name": "stdout",
     "output_type": "stream",
     "text": [
      "Source            Last Sample                 Next Sample                 Delta           Samples \n",
      "Total: 0 gap(s) and 0 overlap(s)\n",
      "GT    UN    HNZ    2021-05-24T14:34:00    80.0    0.01    100.0    5.0    792878.7    \n",
      "max:  0.922219108359\n",
      "Saved figure to ././results/fft-singlefreq/GT.UN.00.HNZ(5.0 vpp)_0.01HZ-5.0vpp.png\n",
      "GT    UN    HNZ    2021-05-24T14:17:00    16.0    0.1    100.0    5.0    792878.7    \n",
      "max:  1.10729409342\n",
      "Saved figure to ././results/fft-singlefreq/GT.UN.00.HNZ(5.0 vpp)_0.1HZ-5.0vpp.png\n",
      "GT    UN    HNZ    2021-05-24T14:06:00    8.0    1.0    100.0    5.0    792878.7    \n",
      "max:  1.17592364695\n",
      "Saved figure to ././results/fft-singlefreq/GT.UN.00.HNZ(5.0 vpp)_1HZ-5.0vpp.png\n",
      "GT    UN    HNZ    2021-05-24T13:59:30    4.0    2.0    100.0    5.0    792878.7    \n",
      "max:  1.17164198136\n",
      "Saved figure to ././results/fft-singlefreq/GT.UN.00.HNZ(5.0 vpp)_2HZ-5.0vpp.png\n",
      "GT    UN    HNZ    2021-05-24T13:50:00    2.0    5.0    100.0    5.0    792878.7    \n",
      "max:  0.792154318628\n",
      "Saved figure to ././results/fft-singlefreq/GT.UN.00.HNZ(5.0 vpp)_5HZ-5.0vpp.png\n",
      "GT    UN    HNZ    2021-05-24T13:43:00    2.0    10.0    100.0    5.0    792878.7    \n",
      "max:  1.17037540427\n",
      "Saved figure to ././results/fft-singlefreq/GT.UN.00.HNZ(5.0 vpp)_10HZ-5.0vpp.png\n",
      "GT    UN    HNZ    2021-05-24T13:39:20    2.0    20.0    100.0    5.0    792878.7    \n",
      "max:  1.16607658912\n",
      "Saved figure to ././results/fft-singlefreq/GT.UN.00.HNZ(5.0 vpp)_20HZ-5.0vpp.png\n",
      "GT    UN    HNZ    2021-05-24T13:36:00    2.0    30.0    100.0    5.0    792878.7    \n",
      "max:  1.17217996325\n",
      "Saved figure to ././results/fft-singlefreq/GT.UN.00.HNZ(5.0 vpp)_30HZ-5.0vpp.png\n",
      "GT    UN    HNZ    2021-05-24T13:33:00    2.0    40.0    100.0    5.0    792878.7    \n",
      "max:  1.17480212837\n",
      "Saved figure to ././results/fft-singlefreq/GT.UN.00.HNZ(5.0 vpp)_40HZ-5.0vpp.png\n",
      "GT    UN    HNZ    2021-05-24T13:29:00    2.0    45.0    100.0    5.0    792878.7    \n",
      "max:  0.349288031415\n",
      "Saved figure to ././results/fft-singlefreq/GT.UN.00.HNZ(5.0 vpp)_45HZ-5.0vpp.png\n",
      "GT    UN    HNZ    2021-05-24T13:26:00    2.0    46.0    100.0    5.0    792878.7    \n",
      "max:  0.282697750077\n",
      "Saved figure to ././results/fft-singlefreq/GT.UN.00.HNZ(5.0 vpp)_46HZ-5.0vpp.png\n",
      "GT    UN    HNZ    2021-05-24T13:23:00    2.0    47.0    100.0    5.0    792878.7    \n",
      "max:  0.0812772355321\n",
      "Saved figure to ././results/fft-singlefreq/GT.UN.00.HNZ(5.0 vpp)_47HZ-5.0vpp.png\n",
      "GT    UN    HNZ    2021-05-24T13:19:00    2.0    48.0    100.0    5.0    792878.7    \n",
      "max:  0.0368502170746\n",
      "Saved figure to ././results/fft-singlefreq/GT.UN.00.HNZ(5.0 vpp)_48HZ-5.0vpp.png\n",
      "GT    UN    HNZ    2021-05-24T13:16:00    2.0    49.0    100.0    5.0    792878.7    \n",
      "max:  0.00742421837243\n",
      "Saved figure to ././results/fft-singlefreq/GT.UN.00.HNZ(5.0 vpp)_49HZ-5.0vpp.png\n",
      "GT    UN    HNZ    2021-05-24T13:13:00    2.0    50.0    100.0    5.0    792878.7    \n",
      "max:  0.0108012718349\n",
      "Saved figure to ././results/fft-singlefreq/GT.UN.00.HNZ(5.0 vpp)_50HZ-5.0vpp.png\n",
      "GT    UN    HNZ    2021-05-24T13:10:00    2.0    51.0    100.0    5.0    792878.7    \n",
      "max:  0.00754132967091\n",
      "Saved figure to ././results/fft-singlefreq/GT.UN.00.HNZ(5.0 vpp)_51HZ-5.0vpp.png\n",
      "GT    UN    HNZ    2021-05-24T13:07:00    2.0    52.0    100.0    5.0    792878.7    \n",
      "max:  0.00876766471512\n",
      "Saved figure to ././results/fft-singlefreq/GT.UN.00.HNZ(5.0 vpp)_52HZ-5.0vpp.png\n",
      "GT    UN    HNZ    2021-05-24T13:04:00    2.0    53.0    100.0    5.0    792878.7    \n",
      "max:  0.00994757983522\n",
      "Saved figure to ././results/fft-singlefreq/GT.UN.00.HNZ(5.0 vpp)_53HZ-5.0vpp.png\n",
      "GT    UN    HNZ    2021-05-24T13:00:50    2.0    54.0    100.0    5.0    792878.7    \n",
      "max:  0.0066580357274\n",
      "Saved figure to ././results/fft-singlefreq/GT.UN.00.HNZ(5.0 vpp)_54HZ-5.0vpp.png\n",
      "GT    UN    HNZ    2021-05-24T12:56:40    2.0    55.0    100.0    5.0    792878.7    \n",
      "max:  0.00851500721789\n",
      "Saved figure to ././results/fft-singlefreq/GT.UN.00.HNZ(5.0 vpp)_55HZ-5.0vpp.png\n",
      "GT    UN    HNZ    2021-05-24T12:54:00    2.0    60.0    100.0    5.0    792878.7    \n",
      "max:  0.00775439423805\n",
      "Saved figure to ././results/fft-singlefreq/GT.UN.00.HNZ(5.0 vpp)_60HZ-5.0vpp.png\n",
      "GT    UN    HNZ    2021-05-24T12:52:00    1.0    70.0    100.0    5.0    792878.7    \n",
      "max:  0.00937092854005\n",
      "Saved figure to ././results/fft-singlefreq/GT.UN.00.HNZ(5.0 vpp)_70HZ-5.0vpp.png\n",
      "GT    UN    HNZ    2021-05-24T12:50:00    1.0    80.0    100.0    5.0    792878.7    \n",
      "max:  0.00870263968712\n",
      "Saved figure to ././results/fft-singlefreq/GT.UN.00.HNZ(5.0 vpp)_80HZ-5.0vpp.png\n",
      "GT    UN    HNZ    2021-05-24T12:48:10    1.0    90.0    100.0    5.0    792878.7    \n",
      "max:  0.00822607826708\n",
      "Saved figure to ././results/fft-singlefreq/GT.UN.00.HNZ(5.0 vpp)_90HZ-5.0vpp.png\n",
      "GT    UN    HNZ    2021-05-24T12:45:50    1.0    100.0    100.0    5.0    792878.7    \n",
      "max:  0.0108128340682\n",
      "Saved figure to ././results/fft-singlefreq/GT.UN.00.HNZ(5.0 vpp)_100HZ-5.0vpp.png\n",
      "Saved figure to ././results/fft-singlefreq/GT.UN.00.HNZ(5.0 vpp)_allHZ.png\n"
     ]
    }
   ],
   "source": [
    "### frequency responce with fft (sinus single frequency)\n",
    "check.freqresp_singlefreq_fft_plot(stream=st, savedir='./results/fft-singlefreq', save=True, show=False)"
   ]
  },
  {
   "cell_type": "code",
   "execution_count": 10,
   "metadata": {},
   "outputs": [
    {
     "name": "stdout",
     "output_type": "stream",
     "text": [
      "Source            Last Sample                 Next Sample                 Delta           Samples \n",
      "Total: 0 gap(s) and 0 overlap(s)\n",
      "Source            Last Sample                 Next Sample                 Delta           Samples \n",
      "Total: 0 gap(s) and 0 overlap(s)\n",
      "Source            Last Sample                 Next Sample                 Delta           Samples \n",
      "Total: 0 gap(s) and 0 overlap(s)\n",
      "Source            Last Sample                 Next Sample                 Delta           Samples \n",
      "Total: 0 gap(s) and 0 overlap(s)\n",
      "Source            Last Sample                 Next Sample                 Delta           Samples \n",
      "Total: 0 gap(s) and 0 overlap(s)\n",
      "Source            Last Sample                 Next Sample                 Delta           Samples \n",
      "Total: 0 gap(s) and 0 overlap(s)\n",
      "Source            Last Sample                 Next Sample                 Delta           Samples \n",
      "Total: 0 gap(s) and 0 overlap(s)\n",
      "Source            Last Sample                 Next Sample                 Delta           Samples \n",
      "Total: 0 gap(s) and 0 overlap(s)\n",
      "Source            Last Sample                 Next Sample                 Delta           Samples \n",
      "Total: 0 gap(s) and 0 overlap(s)\n",
      "Source            Last Sample                 Next Sample                 Delta           Samples \n",
      "Total: 0 gap(s) and 0 overlap(s)\n",
      "Source            Last Sample                 Next Sample                 Delta           Samples \n",
      "Total: 0 gap(s) and 0 overlap(s)\n",
      "Source            Last Sample                 Next Sample                 Delta           Samples \n",
      "Total: 0 gap(s) and 0 overlap(s)\n",
      "Source            Last Sample                 Next Sample                 Delta           Samples \n",
      "Total: 0 gap(s) and 0 overlap(s)\n",
      "Source            Last Sample                 Next Sample                 Delta           Samples \n",
      "Total: 0 gap(s) and 0 overlap(s)\n",
      "Source            Last Sample                 Next Sample                 Delta           Samples \n",
      "Total: 0 gap(s) and 0 overlap(s)\n",
      "Source            Last Sample                 Next Sample                 Delta           Samples \n",
      "Total: 0 gap(s) and 0 overlap(s)\n",
      "Source            Last Sample                 Next Sample                 Delta           Samples \n",
      "Total: 0 gap(s) and 0 overlap(s)\n",
      "Source            Last Sample                 Next Sample                 Delta           Samples \n",
      "Total: 0 gap(s) and 0 overlap(s)\n",
      "Source            Last Sample                 Next Sample                 Delta           Samples \n",
      "Total: 0 gap(s) and 0 overlap(s)\n",
      "Source            Last Sample                 Next Sample                 Delta           Samples \n",
      "Total: 0 gap(s) and 0 overlap(s)\n",
      "Source            Last Sample                 Next Sample                 Delta           Samples \n",
      "Total: 0 gap(s) and 0 overlap(s)\n",
      "Source            Last Sample                 Next Sample                 Delta           Samples \n",
      "Total: 0 gap(s) and 0 overlap(s)\n",
      "Source            Last Sample                 Next Sample                 Delta           Samples \n",
      "Total: 0 gap(s) and 0 overlap(s)\n",
      "Source            Last Sample                 Next Sample                 Delta           Samples \n",
      "Total: 0 gap(s) and 0 overlap(s)\n",
      "Source            Last Sample                 Next Sample                 Delta           Samples \n",
      "Total: 0 gap(s) and 0 overlap(s)\n",
      "Saved figure to ./results/Gain.png\n"
     ]
    }
   ],
   "source": [
    "### gain\n",
    "check.gain(stream=st, plotmethod='semilogx', outpath='./results', save=True, show=False) # gain=792878.7"
   ]
  }
 ],
 "metadata": {
  "kernelspec": {
   "display_name": "Python 3",
   "language": "python",
   "name": "python3"
  },
  "language_info": {
   "codemirror_mode": {
    "name": "ipython",
    "version": 3
   },
   "file_extension": ".py",
   "mimetype": "text/x-python",
   "name": "python",
   "nbconvert_exporter": "python",
   "pygments_lexer": "ipython3",
   "version": "3.6.9"
  }
 },
 "nbformat": 4,
 "nbformat_minor": 2
}
