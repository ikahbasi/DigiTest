{
 "cells": [
  {
   "cell_type": "markdown",
   "metadata": {},
   "source": [
    "# Import functions\n",
    "\n",
    "Define parent directory"
   ]
  },
  {
   "cell_type": "code",
   "execution_count": 3,
   "metadata": {},
   "outputs": [],
   "source": [
    "import sys\n",
    "sys.path.insert(0, '..')"
   ]
  },
  {
   "cell_type": "markdown",
   "metadata": {},
   "source": [
    "# Import functions"
   ]
  },
  {
   "cell_type": "code",
   "execution_count": 4,
   "metadata": {},
   "outputs": [
    {
     "name": "stderr",
     "output_type": "stream",
     "text": [
      "/home/iman/.local/lib/python3.10/site-packages/pkg_resources/__init__.py:123: PkgResourcesDeprecationWarning: 1.16.0-unknown is an invalid version and will not be supported in a future release\n",
      "  warnings.warn(\n",
      "/home/iman/.local/lib/python3.10/site-packages/pkg_resources/__init__.py:123: PkgResourcesDeprecationWarning: 0.1.43ubuntu1 is an invalid version and will not be supported in a future release\n",
      "  warnings.warn(\n",
      "/home/iman/.local/lib/python3.10/site-packages/pkg_resources/__init__.py:123: PkgResourcesDeprecationWarning: 2.22.1ubuntu1 is an invalid version and will not be supported in a future release\n",
      "  warnings.warn(\n",
      "/home/iman/.local/lib/python3.10/site-packages/pkg_resources/__init__.py:123: PkgResourcesDeprecationWarning: 1.1build1 is an invalid version and will not be supported in a future release\n",
      "  warnings.warn(\n"
     ]
    }
   ],
   "source": [
    "from obspy import read\n",
    "from digitest import CheckDigitizer"
   ]
  },
  {
   "cell_type": "markdown",
   "metadata": {},
   "source": [
    "# Make instance of CheckDigitizer"
   ]
  },
  {
   "cell_type": "code",
   "execution_count": 5,
   "metadata": {},
   "outputs": [],
   "source": [
    "check = CheckDigitizer()"
   ]
  },
  {
   "cell_type": "markdown",
   "metadata": {},
   "source": [
    "# Import the file of input parameterms and reading data"
   ]
  },
  {
   "cell_type": "code",
   "execution_count": 8,
   "metadata": {},
   "outputs": [],
   "source": [
    "# Input file\n",
    "path_inputfile = './Inputs/FreqResp-Sinusoidal.txt'\n",
    "check.input_parser(path_inputfile)\n",
    "# Input data\n",
    "path_data = './Data/Sinusoidal-01.mseed'\n",
    "st = read(path_data)"
   ]
  },
  {
   "cell_type": "markdown",
   "metadata": {},
   "source": [
    "# Call frequency response function"
   ]
  },
  {
   "cell_type": "code",
   "execution_count": 9,
   "metadata": {},
   "outputs": [
    {
     "name": "stdout",
     "output_type": "stream",
     "text": [
      "Source            Last Sample                 Next Sample                 Delta           Samples \n",
      "Total: 0 gap(s) and 0 overlap(s)\n",
      "EX    SIN1    HHZ    2022-07-16T11:18:00    1.0    100.0    100.0    5.0    754342.2    \n",
      "EX    SIN1    HHZ    2022-07-16T11:20:00    1.0    90.0    100.0    5.0    754342.2    \n",
      "EX    SIN1    HHZ    2022-07-16T11:22:00    1.0    80.0    100.0    5.0    754342.2    \n",
      "EX    SIN1    HHZ    2022-07-16T11:24:00    1.0    70.0    100.0    5.0    754342.2    \n",
      "EX    SIN1    HHZ    2022-07-16T11:27:15    2.0    60.0    100.0    5.0    754342.2    \n",
      "EX    SIN1    HHZ    2022-07-16T11:30:00    2.0    55.0    100.0    5.0    754342.2    \n",
      "EX    SIN1    HHZ    2022-07-16T11:33:30    2.0    54.0    100.0    5.0    754342.2    \n",
      "EX    SIN1    HHZ    2022-07-16T11:37:00    2.0    53.0    100.0    5.0    754342.2    \n",
      "EX    SIN1    HHZ    2022-07-16T11:40:00    2.0    52.0    100.0    5.0    754342.2    \n",
      "EX    SIN1    HHZ    2022-07-16T11:43:00    2.0    51.0    100.0    5.0    754342.2    \n",
      "EX    SIN1    HHZ    2022-07-16T11:46:00    2.0    50.0    100.0    5.0    754342.2    \n",
      "EX    SIN1    HHZ    2022-07-16T11:49:00    2.0    49.0    100.0    5.0    754342.2    \n",
      "EX    SIN1    HHZ    2022-07-16T11:52:00    2.0    48.0    100.0    5.0    754342.2    \n",
      "EX    SIN1    HHZ    2022-07-16T11:55:00    2.0    47.0    100.0    5.0    754342.2    \n",
      "EX    SIN1    HHZ    2022-07-16T11:58:00    2.0    46.0    100.0    5.0    754342.2    \n",
      "EX    SIN1    HHZ    2022-07-16T12:01:00    2.0    45.0    100.0    5.0    754342.2    \n",
      "EX    SIN1    HHZ    2022-07-16T12:04:00    2.0    44.0    100.0    5.0    754342.2    \n",
      "EX    SIN1    HHZ    2022-07-16T12:07:00    2.0    43.0    100.0    5.0    754342.2    \n",
      "EX    SIN1    HHZ    2022-07-16T12:10:00    2.0    42.0    100.0    5.0    754342.2    \n",
      "EX    SIN1    HHZ    2022-07-16T12:13:00    2.0    41.0    100.0    5.0    754342.2    \n",
      "EX    SIN1    HHZ    2022-07-16T12:16:00    2.0    40.0    100.0    5.0    754342.2    \n",
      "EX    SIN1    HHZ    2022-07-16T12:19:00    2.0    39.0    100.0    5.0    754342.2    \n",
      "EX    SIN1    HHZ    2022-07-16T12:22:00    2.0    38.0    100.0    5.0    754342.2    \n",
      "EX    SIN1    HHZ    2022-07-16T12:25:00    1.5    37.0    100.0    5.0    754342.2    \n",
      "EX    SIN1    HHZ    2022-07-16T12:27:00    2.0    36.0    100.0    5.0    754342.2    \n",
      "EX    SIN1    HHZ    2022-07-16T12:30:00    2.0    35.0    100.0    5.0    754342.2    \n",
      "EX    SIN1    HHZ    2022-07-16T12:33:00    2.0    34.0    100.0    5.0    754342.2    \n",
      "EX    SIN1    HHZ    2022-07-16T12:36:00    2.0    33.0    100.0    5.0    754342.2    \n",
      "EX    SIN1    HHZ    2022-07-16T12:39:00    2.0    32.0    100.0    5.0    754342.2    \n",
      "EX    SIN1    HHZ    2022-07-16T12:42:00    2.0    31.0    100.0    5.0    754342.2    \n",
      "EX    SIN1    HHZ    2022-07-16T12:45:00    2.0    30.0    100.0    5.0    754342.2    \n",
      "EX    SIN1    HHZ    2022-07-16T12:48:00    2.0    29.0    100.0    5.0    754342.2    \n",
      "EX    SIN1    HHZ    2022-07-16T12:51:00    2.0    28.0    100.0    5.0    754342.2    \n",
      "EX    SIN1    HHZ    2022-07-16T12:54:00    2.0    27.0    100.0    5.0    754342.2    \n",
      "EX    SIN1    HHZ    2022-07-16T12:57:00    2.0    26.0    100.0    5.0    754342.2    \n",
      "EX    SIN1    HHZ    2022-07-16T13:00:00    2.0    25.0    100.0    5.0    754342.2    \n",
      "EX    SIN1    HHZ    2022-07-16T13:05:00    1.5    24.0    100.0    5.0    754342.2    \n",
      "EX    SIN1    HHZ    2022-07-16T13:13:30    2.0    23.0    100.0    5.0    754342.2    \n",
      "EX    SIN1    HHZ    2022-07-16T13:17:50    1.5    21.0    100.0    5.0    754342.2    \n",
      "EX    SIN1    HHZ    2022-07-16T13:20:00    1.5    20.0    100.0    5.0    754342.2    \n",
      "EX    SIN1    HHZ    2022-07-16T13:23:00    1.5    10.0    100.0    5.0    754342.2    \n",
      "EX    SIN1    HHZ    2022-07-16T13:26:00    1.5    5.0    100.0    5.0    754342.2    \n",
      "EX    SIN1    HHZ    2022-07-16T13:30:00    1.5    2.0    100.0    5.0    754342.2    \n",
      "EX    SIN1    HHZ    2022-07-16T13:56:00    8.0    1.0    100.0    5.0    754342.2    \n",
      "EX    SIN1    HHZ    2022-07-16T14:20:30    16.0    0.1    100.0    5.0    754342.2    \n",
      "EX    SIN1    HHZ    2022-07-16T14:51:00    120.0    0.01    100.0    5.0    754342.2    \n"
     ]
    }
   ],
   "source": [
    "check.freqresp_singlefreq(stream=st)"
   ]
  },
  {
   "cell_type": "markdown",
   "metadata": {},
   "source": [
    "# Plot Frequency-Response"
   ]
  },
  {
   "cell_type": "code",
   "execution_count": 10,
   "metadata": {},
   "outputs": [
    {
     "data": {
      "image/png": "[encoded data removed]",
      "text/plain": [
       "<Figure size 756x540 with 1 Axes>"
      ]
     },
     "metadata": {
      "needs_background": "light"
     },
     "output_type": "display_data"
    }
   ],
   "source": [
    "check.plot_compare_freqresp()"
   ]
  },
  {
   "cell_type": "markdown",
   "metadata": {},
   "source": [
    "# Plot and Save Frequency-Response"
   ]
  },
  {
   "cell_type": "code",
   "execution_count": 11,
   "metadata": {},
   "outputs": [
    {
     "name": "stdout",
     "output_type": "stream",
     "text": [
      "Saved figure to ./Results/FreqResp_Sinusoidal.png\n"
     ]
    }
   ],
   "source": [
    "check.plot_compare_freqresp(save=True, show=False, savefile='./Results/FreqResp_Sinusoidal.png')"
   ]
  }
 ],
 "metadata": {
  "kernelspec": {
   "display_name": "Python 3 (ipykernel)",
   "language": "python",
   "name": "python3"
  },
  "language_info": {
   "codemirror_mode": {
    "name": "ipython",
    "version": 3
   },
   "file_extension": ".py",
   "mimetype": "text/x-python",
   "name": "python",
   "nbconvert_exporter": "python",
   "pygments_lexer": "ipython3",
   "version": "3.10.6"
  }
 },
 "nbformat": 4,
 "nbformat_minor": 2
}
