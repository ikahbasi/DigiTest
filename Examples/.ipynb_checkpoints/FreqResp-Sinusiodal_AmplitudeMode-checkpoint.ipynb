{
 "cells": [
  {
   "cell_type": "markdown",
   "metadata": {},
   "source": [
    "# Import functions\n",
    "\n",
    "Define parent directory"
   ]
  },
  {
   "cell_type": "code",
   "execution_count": 2,
   "metadata": {},
   "outputs": [],
   "source": [
    "import sys\n",
    "sys.path.insert(0, '..')"
   ]
  },
  {
   "cell_type": "markdown",
   "metadata": {},
   "source": [
    "# Import functions"
   ]
  },
  {
   "cell_type": "code",
   "execution_count": 3,
   "metadata": {},
   "outputs": [
    {
     "name": "stderr",
     "output_type": "stream",
     "text": [
      "/home/iman/.local/lib/python3.10/site-packages/pkg_resources/__init__.py:123: PkgResourcesDeprecationWarning: 1.16.0-unknown is an invalid version and will not be supported in a future release\n",
      "  warnings.warn(\n",
      "/home/iman/.local/lib/python3.10/site-packages/pkg_resources/__init__.py:123: PkgResourcesDeprecationWarning: 0.1.43ubuntu1 is an invalid version and will not be supported in a future release\n",
      "  warnings.warn(\n",
      "/home/iman/.local/lib/python3.10/site-packages/pkg_resources/__init__.py:123: PkgResourcesDeprecationWarning: 2.22.1ubuntu1 is an invalid version and will not be supported in a future release\n",
      "  warnings.warn(\n",
      "/home/iman/.local/lib/python3.10/site-packages/pkg_resources/__init__.py:123: PkgResourcesDeprecationWarning: 1.1build1 is an invalid version and will not be supported in a future release\n",
      "  warnings.warn(\n"
     ]
    }
   ],
   "source": [
    "from obspy import read\n",
    "from digitest import CheckDigitizer"
   ]
  },
  {
   "cell_type": "markdown",
   "metadata": {},
   "source": [
    "# Make instance of CheckDigitizer"
   ]
  },
  {
   "cell_type": "code",
   "execution_count": 4,
   "metadata": {},
   "outputs": [],
   "source": [
    "check = CheckDigitizer()"
   ]
  },
  {
   "cell_type": "markdown",
   "metadata": {},
   "source": [
    "# Import the file of input parameterms and reading data"
   ]
  },
  {
   "cell_type": "code",
   "execution_count": 5,
   "metadata": {},
   "outputs": [],
   "source": [
    "# Input file\n",
    "path_inputfile = './Inputs/FreqResp-Sinusoidal.txt'\n",
    "check.input_parser(path_inputfile)\n",
    "# Input data\n",
    "path_data = './Data/Sinusoidal-01.mseed'\n",
    "st = read(path_data)"
   ]
  },
  {
   "cell_type": "markdown",
   "metadata": {},
   "source": [
    "# Frequency Response with fft (sinus single frequency)"
   ]
  },
  {
   "cell_type": "code",
   "execution_count": 7,
   "metadata": {},
   "outputs": [
    {
     "name": "stdout",
     "output_type": "stream",
     "text": [
      "Source            Last Sample                 Next Sample                 Delta           Samples \n",
      "Total: 0 gap(s) and 0 overlap(s)\n",
      "EX    SIN1    HHZ    2022-07-16T14:51:00    120.0    0.01    100.0    5.0    754342.2    \n",
      "max:  1.1569973512470544\n",
      "Saved figure to ././Results/FreqResp-Sinusiodal_AmplitudeMode/EX.SIN1.Z0.HHZ(5.0 vpp)_0.01HZ-5.0vpp.png\n",
      "EX    SIN1    HHZ    2022-07-16T14:20:30    16.0    0.1    100.0    5.0    754342.2    \n",
      "max:  1.1070589270221727\n",
      "Saved figure to ././Results/FreqResp-Sinusiodal_AmplitudeMode/EX.SIN1.Z0.HHZ(5.0 vpp)_0.1HZ-5.0vpp.png\n",
      "EX    SIN1    HHZ    2022-07-16T13:56:00    8.0    1.0    100.0    5.0    754342.2    \n",
      "max:  1.1740135749763683\n",
      "Saved figure to ././Results/FreqResp-Sinusiodal_AmplitudeMode/EX.SIN1.Z0.HHZ(5.0 vpp)_1HZ-5.0vpp.png\n",
      "EX    SIN1    HHZ    2022-07-16T13:30:00    1.5    2.0    100.0    5.0    754342.2    \n",
      "max:  0.9995343232492868\n",
      "Saved figure to ././Results/FreqResp-Sinusiodal_AmplitudeMode/EX.SIN1.Z0.HHZ(5.0 vpp)_2HZ-5.0vpp.png\n",
      "EX    SIN1    HHZ    2022-07-16T13:26:00    1.5    5.0    100.0    5.0    754342.2    \n",
      "max:  1.0960218177543741\n",
      "Saved figure to ././Results/FreqResp-Sinusiodal_AmplitudeMode/EX.SIN1.Z0.HHZ(5.0 vpp)_5HZ-5.0vpp.png\n",
      "EX    SIN1    HHZ    2022-07-16T13:23:00    1.5    10.0    100.0    5.0    754342.2    \n",
      "max:  0.9145930619499433\n",
      "Saved figure to ././Results/FreqResp-Sinusiodal_AmplitudeMode/EX.SIN1.Z0.HHZ(5.0 vpp)_10HZ-5.0vpp.png\n",
      "EX    SIN1    HHZ    2022-07-16T13:20:00    1.5    20.0    100.0    5.0    754342.2    \n",
      "max:  1.0954398500637323\n",
      "Saved figure to ././Results/FreqResp-Sinusiodal_AmplitudeMode/EX.SIN1.Z0.HHZ(5.0 vpp)_20HZ-5.0vpp.png\n",
      "EX    SIN1    HHZ    2022-07-16T13:17:50    1.5    21.0    100.0    5.0    754342.2    \n",
      "max:  0.958385540602057\n",
      "Saved figure to ././Results/FreqResp-Sinusiodal_AmplitudeMode/EX.SIN1.Z0.HHZ(5.0 vpp)_21HZ-5.0vpp.png\n",
      "EX    SIN1    HHZ    2022-07-16T13:13:30    2.0    23.0    100.0    5.0    754342.2    \n",
      "max:  0.7920010382744529\n",
      "Saved figure to ././Results/FreqResp-Sinusiodal_AmplitudeMode/EX.SIN1.Z0.HHZ(5.0 vpp)_23HZ-5.0vpp.png\n",
      "EX    SIN1    HHZ    2022-07-16T13:05:00    1.5    24.0    100.0    5.0    754342.2    \n",
      "max:  1.1596397843693085\n",
      "Saved figure to ././Results/FreqResp-Sinusiodal_AmplitudeMode/EX.SIN1.Z0.HHZ(5.0 vpp)_24HZ-5.0vpp.png\n",
      "EX    SIN1    HHZ    2022-07-16T13:00:00    2.0    25.0    100.0    5.0    754342.2    \n",
      "max:  0.7919677673776653\n",
      "Saved figure to ././Results/FreqResp-Sinusiodal_AmplitudeMode/EX.SIN1.Z0.HHZ(5.0 vpp)_25HZ-5.0vpp.png\n",
      "EX    SIN1    HHZ    2022-07-16T12:57:00    2.0    26.0    100.0    5.0    754342.2    \n",
      "max:  1.1726925176319245\n",
      "Saved figure to ././Results/FreqResp-Sinusiodal_AmplitudeMode/EX.SIN1.Z0.HHZ(5.0 vpp)_26HZ-5.0vpp.png\n",
      "EX    SIN1    HHZ    2022-07-16T12:54:00    2.0    27.0    100.0    5.0    754342.2    \n",
      "max:  0.7918640139807295\n",
      "Saved figure to ././Results/FreqResp-Sinusiodal_AmplitudeMode/EX.SIN1.Z0.HHZ(5.0 vpp)_27HZ-5.0vpp.png\n",
      "EX    SIN1    HHZ    2022-07-16T12:51:00    2.0    28.0    100.0    5.0    754342.2    \n",
      "max:  1.1724730521711955\n",
      "Saved figure to ././Results/FreqResp-Sinusiodal_AmplitudeMode/EX.SIN1.Z0.HHZ(5.0 vpp)_28HZ-5.0vpp.png\n",
      "EX    SIN1    HHZ    2022-07-16T12:48:00    2.0    29.0    100.0    5.0    754342.2    \n",
      "max:  0.7917560306150966\n",
      "Saved figure to ././Results/FreqResp-Sinusiodal_AmplitudeMode/EX.SIN1.Z0.HHZ(5.0 vpp)_29HZ-5.0vpp.png\n",
      "EX    SIN1    HHZ    2022-07-16T12:45:00    2.0    30.0    100.0    5.0    754342.2    \n",
      "max:  1.172342860886943\n",
      "Saved figure to ././Results/FreqResp-Sinusiodal_AmplitudeMode/EX.SIN1.Z0.HHZ(5.0 vpp)_30HZ-5.0vpp.png\n",
      "EX    SIN1    HHZ    2022-07-16T12:42:00    2.0    31.0    100.0    5.0    754342.2    \n",
      "max:  0.7916240583211918\n",
      "Saved figure to ././Results/FreqResp-Sinusiodal_AmplitudeMode/EX.SIN1.Z0.HHZ(5.0 vpp)_31HZ-5.0vpp.png\n",
      "EX    SIN1    HHZ    2022-07-16T12:39:00    2.0    32.0    100.0    5.0    754342.2    \n",
      "max:  1.1721175585101373\n",
      "Saved figure to ././Results/FreqResp-Sinusiodal_AmplitudeMode/EX.SIN1.Z0.HHZ(5.0 vpp)_32HZ-5.0vpp.png\n",
      "EX    SIN1    HHZ    2022-07-16T12:36:00    2.0    33.0    100.0    5.0    754342.2    \n",
      "max:  0.7915781773131105\n",
      "Saved figure to ././Results/FreqResp-Sinusiodal_AmplitudeMode/EX.SIN1.Z0.HHZ(5.0 vpp)_33HZ-5.0vpp.png\n",
      "EX    SIN1    HHZ    2022-07-16T12:33:00    2.0    34.0    100.0    5.0    754342.2    \n",
      "max:  1.171886175812751\n",
      "Saved figure to ././Results/FreqResp-Sinusiodal_AmplitudeMode/EX.SIN1.Z0.HHZ(5.0 vpp)_34HZ-5.0vpp.png\n",
      "EX    SIN1    HHZ    2022-07-16T12:30:00    2.0    35.0    100.0    5.0    754342.2    \n",
      "max:  0.7914292091752468\n",
      "Saved figure to ././Results/FreqResp-Sinusiodal_AmplitudeMode/EX.SIN1.Z0.HHZ(5.0 vpp)_35HZ-5.0vpp.png\n",
      "EX    SIN1    HHZ    2022-07-16T12:27:00    2.0    36.0    100.0    5.0    754342.2    \n",
      "max:  1.1716136983605923\n",
      "Saved figure to ././Results/FreqResp-Sinusiodal_AmplitudeMode/EX.SIN1.Z0.HHZ(5.0 vpp)_36HZ-5.0vpp.png\n",
      "EX    SIN1    HHZ    2022-07-16T12:25:00    1.5    37.0    100.0    5.0    754342.2    \n",
      "max:  1.1477429180872234\n",
      "Saved figure to ././Results/FreqResp-Sinusiodal_AmplitudeMode/EX.SIN1.Z0.HHZ(5.0 vpp)_37HZ-5.0vpp.png\n",
      "EX    SIN1    HHZ    2022-07-16T12:22:00    2.0    38.0    100.0    5.0    754342.2    \n",
      "max:  1.1710132339379078\n",
      "Saved figure to ././Results/FreqResp-Sinusiodal_AmplitudeMode/EX.SIN1.Z0.HHZ(5.0 vpp)_38HZ-5.0vpp.png\n",
      "EX    SIN1    HHZ    2022-07-16T12:19:00    2.0    39.0    100.0    5.0    754342.2    \n",
      "max:  0.7868971589685388\n",
      "Saved figure to ././Results/FreqResp-Sinusiodal_AmplitudeMode/EX.SIN1.Z0.HHZ(5.0 vpp)_39HZ-5.0vpp.png\n",
      "EX    SIN1    HHZ    2022-07-16T12:16:00    2.0    40.0    100.0    5.0    754342.2    \n",
      "max:  1.1341420799647528\n",
      "Saved figure to ././Results/FreqResp-Sinusiodal_AmplitudeMode/EX.SIN1.Z0.HHZ(5.0 vpp)_40HZ-5.0vpp.png\n",
      "EX    SIN1    HHZ    2022-07-16T12:13:00    2.0    41.0    100.0    5.0    754342.2    \n",
      "max:  0.7072482230838562\n",
      "Saved figure to ././Results/FreqResp-Sinusiodal_AmplitudeMode/EX.SIN1.Z0.HHZ(5.0 vpp)_41HZ-5.0vpp.png\n",
      "EX    SIN1    HHZ    2022-07-16T12:10:00    2.0    42.0    100.0    5.0    754342.2    \n",
      "max:  0.8792690293922928\n",
      "Saved figure to ././Results/FreqResp-Sinusiodal_AmplitudeMode/EX.SIN1.Z0.HHZ(5.0 vpp)_42HZ-5.0vpp.png\n",
      "EX    SIN1    HHZ    2022-07-16T12:07:00    2.0    43.0    100.0    5.0    754342.2    \n",
      "max:  0.43560081530601014\n",
      "Saved figure to ././Results/FreqResp-Sinusiodal_AmplitudeMode/EX.SIN1.Z0.HHZ(5.0 vpp)_43HZ-5.0vpp.png\n",
      "EX    SIN1    HHZ    2022-07-16T12:04:00    2.0    44.0    100.0    5.0    754342.2    \n",
      "max:  0.3968499004062799\n",
      "Saved figure to ././Results/FreqResp-Sinusiodal_AmplitudeMode/EX.SIN1.Z0.HHZ(5.0 vpp)_44HZ-5.0vpp.png\n",
      "EX    SIN1    HHZ    2022-07-16T12:01:00    2.0    45.0    100.0    5.0    754342.2    \n",
      "max:  0.13303990732469062\n",
      "Saved figure to ././Results/FreqResp-Sinusiodal_AmplitudeMode/EX.SIN1.Z0.HHZ(5.0 vpp)_45HZ-5.0vpp.png\n",
      "EX    SIN1    HHZ    2022-07-16T11:58:00    2.0    46.0    100.0    5.0    754342.2    \n",
      "max:  0.07487713995174455\n",
      "Saved figure to ././Results/FreqResp-Sinusiodal_AmplitudeMode/EX.SIN1.Z0.HHZ(5.0 vpp)_46HZ-5.0vpp.png\n",
      "EX    SIN1    HHZ    2022-07-16T11:55:00    2.0    47.0    100.0    5.0    754342.2    \n",
      "max:  0.013650718872831875\n",
      "Saved figure to ././Results/FreqResp-Sinusiodal_AmplitudeMode/EX.SIN1.Z0.HHZ(5.0 vpp)_47HZ-5.0vpp.png\n",
      "EX    SIN1    HHZ    2022-07-16T11:52:00    2.0    48.0    100.0    5.0    754342.2    \n",
      "max:  0.003348215628490129\n",
      "Saved figure to ././Results/FreqResp-Sinusiodal_AmplitudeMode/EX.SIN1.Z0.HHZ(5.0 vpp)_48HZ-5.0vpp.png\n",
      "EX    SIN1    HHZ    2022-07-16T11:49:00    2.0    49.0    100.0    5.0    754342.2    \n",
      "max:  0.00016027752877786206\n",
      "Saved figure to ././Results/FreqResp-Sinusiodal_AmplitudeMode/EX.SIN1.Z0.HHZ(5.0 vpp)_49HZ-5.0vpp.png\n",
      "EX    SIN1    HHZ    2022-07-16T11:46:00    2.0    50.0    100.0    5.0    754342.2    \n",
      "max:  6.37822263808644e-05\n",
      "Saved figure to ././Results/FreqResp-Sinusiodal_AmplitudeMode/EX.SIN1.Z0.HHZ(5.0 vpp)_50HZ-5.0vpp.png\n",
      "EX    SIN1    HHZ    2022-07-16T11:43:00    2.0    51.0    100.0    5.0    754342.2    \n",
      "max:  8.147741756235712e-05\n",
      "Saved figure to ././Results/FreqResp-Sinusiodal_AmplitudeMode/EX.SIN1.Z0.HHZ(5.0 vpp)_51HZ-5.0vpp.png\n",
      "EX    SIN1    HHZ    2022-07-16T11:40:00    2.0    52.0    100.0    5.0    754342.2    \n",
      "max:  8.109264117731129e-05\n"
     ]
    },
    {
     "name": "stdout",
     "output_type": "stream",
     "text": [
      "Saved figure to ././Results/FreqResp-Sinusiodal_AmplitudeMode/EX.SIN1.Z0.HHZ(5.0 vpp)_52HZ-5.0vpp.png\n",
      "EX    SIN1    HHZ    2022-07-16T11:37:00    2.0    53.0    100.0    5.0    754342.2    \n",
      "max:  7.084266605942912e-05\n",
      "Saved figure to ././Results/FreqResp-Sinusiodal_AmplitudeMode/EX.SIN1.Z0.HHZ(5.0 vpp)_53HZ-5.0vpp.png\n",
      "EX    SIN1    HHZ    2022-07-16T11:33:30    2.0    54.0    100.0    5.0    754342.2    \n",
      "max:  5.6433967832044217e-05\n",
      "Saved figure to ././Results/FreqResp-Sinusiodal_AmplitudeMode/EX.SIN1.Z0.HHZ(5.0 vpp)_54HZ-5.0vpp.png\n",
      "EX    SIN1    HHZ    2022-07-16T11:30:00    2.0    55.0    100.0    5.0    754342.2    \n",
      "max:  5.042554964764298e-05\n",
      "Saved figure to ././Results/FreqResp-Sinusiodal_AmplitudeMode/EX.SIN1.Z0.HHZ(5.0 vpp)_55HZ-5.0vpp.png\n",
      "EX    SIN1    HHZ    2022-07-16T11:27:15    2.0    60.0    100.0    5.0    754342.2    \n",
      "max:  4.030200899965075e-05\n",
      "Saved figure to ././Results/FreqResp-Sinusiodal_AmplitudeMode/EX.SIN1.Z0.HHZ(5.0 vpp)_60HZ-5.0vpp.png\n",
      "EX    SIN1    HHZ    2022-07-16T11:24:00    1.0    70.0    100.0    5.0    754342.2    \n",
      "max:  0.00017383800159103793\n",
      "Saved figure to ././Results/FreqResp-Sinusiodal_AmplitudeMode/EX.SIN1.Z0.HHZ(5.0 vpp)_70HZ-5.0vpp.png\n",
      "EX    SIN1    HHZ    2022-07-16T11:22:00    1.0    80.0    100.0    5.0    754342.2    \n",
      "max:  6.642146352080622e-05\n",
      "Saved figure to ././Results/FreqResp-Sinusiodal_AmplitudeMode/EX.SIN1.Z0.HHZ(5.0 vpp)_80HZ-5.0vpp.png\n",
      "EX    SIN1    HHZ    2022-07-16T11:20:00    1.0    90.0    100.0    5.0    754342.2    \n",
      "max:  4.254968056163289e-05\n",
      "Saved figure to ././Results/FreqResp-Sinusiodal_AmplitudeMode/EX.SIN1.Z0.HHZ(5.0 vpp)_90HZ-5.0vpp.png\n",
      "EX    SIN1    HHZ    2022-07-16T11:18:00    1.0    100.0    100.0    5.0    754342.2    \n",
      "max:  9.104488039134766e-05\n",
      "Saved figure to ././Results/FreqResp-Sinusiodal_AmplitudeMode/EX.SIN1.Z0.HHZ(5.0 vpp)_100HZ-5.0vpp.png\n",
      "Saved figure to ././Results/FreqResp-Sinusiodal_AmplitudeMode/EX.SIN1.Z0.HHZ(5.0 vpp)_allHZ.png\n"
     ]
    }
   ],
   "source": [
    "check.freqresp_singlefreq_fft_plot(stream=st, savedir='./Results/FreqResp-Sinusiodal_AmplitudeMode', save=True, show=False)"
   ]
  }
 ],
 "metadata": {
  "kernelspec": {
   "display_name": "Python 3 (ipykernel)",
   "language": "python",
   "name": "python3"
  },
  "language_info": {
   "codemirror_mode": {
    "name": "ipython",
    "version": 3
   },
   "file_extension": ".py",
   "mimetype": "text/x-python",
   "name": "python",
   "nbconvert_exporter": "python",
   "pygments_lexer": "ipython3",
   "version": "3.10.6"
  }
 },
 "nbformat": 4,
 "nbformat_minor": 2
}
